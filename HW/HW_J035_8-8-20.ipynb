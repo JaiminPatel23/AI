{
  "nbformat": 4,
  "nbformat_minor": 0,
  "metadata": {
    "colab": {
      "name": "HW-J035-8-8-20.ipynb",
      "provenance": [],
      "collapsed_sections": [],
      "authorship_tag": "ABX9TyOx/QnMGCDeMamrvUYmQBnj",
      "include_colab_link": true
    },
    "kernelspec": {
      "name": "python3",
      "display_name": "Python 3"
    },
    "accelerator": "GPU"
  },
  "cells": [
    {
      "cell_type": "markdown",
      "metadata": {
        "id": "view-in-github",
        "colab_type": "text"
      },
      "source": [
        "<a href=\"https://colab.research.google.com/github/JaiminPatel23/AI/blob/master/HW/HW_J035_8-8-20.ipynb\" target=\"_parent\"><img src=\"https://colab.research.google.com/assets/colab-badge.svg\" alt=\"Open In Colab\"/></a>"
      ]
    },
    {
      "cell_type": "markdown",
      "metadata": {
        "id": "soYJEwmNL8lF",
        "colab_type": "text"
      },
      "source": [
        "**A Knapsack Problem**"
      ]
    },
    {
      "cell_type": "code",
      "metadata": {
        "id": "3D7dZnvOQTRh",
        "colab_type": "code",
        "colab": {}
      },
      "source": [
        "#import libraries\n",
        "import pandas as pd\n",
        "import numpy as np\n",
        "import sys\n",
        "import heapq\n",
        "\n",
        "#function to initialise \n",
        "def solve(N,M,S,V,E) :\n",
        "\n",
        "    #store number of nodes passed to variable N in tuple T\n",
        "    T = tuple(set() for _ in range(N))\n",
        "    #add the connected nodes present in variable E to tuple T\n",
        "    for u,v in E :\n",
        "        T[u].add(v)\n",
        "        T[v].add(u)\n",
        "    # Store sum of values in the connected notes in the variable total   \n",
        "    Total = sum(V)\n",
        "    #Store the sorted array in variable order\n",
        "    order = sorted(range(n), reverse=True, key=(lambda i : V[i]/S[i]))\n",
        "    #Initialise maximum value as 0\n",
        "    maxValue = 0\n",
        "\n",
        "    #Define recursive function to get maximum value of cost of connected node values    \n",
        "    def getMax(visited, connected, rejected, size, value, rejectedValue, maxValue) :\n",
        "        #print((visited, connected, rejected, size, value, rejectedValue, maxValue), file = sys.stderr)\n",
        "        #if value passed is greater than initialised value of maxvalue variable then update value of maxValue\n",
        "        if value > maxValue :\n",
        "            maxValue = value\n",
        "            \n",
        "        #if the passed nodes are not connected return same value of getMax without updation\n",
        "        if not connected :\n",
        "            return maxValue\n",
        "        \n",
        "        #Check all possible sum through various routes to get the maximum\n",
        "        i = getBest(connected)\n",
        "        if size + S[i] <= M :\n",
        "            maxValue = getMax(visited|{i}, (connected-{i}) | (T[i]-rejected-visited), rejected, size+S[i], value+V[i], rejectedValue, maxValue)\n",
        "            \n",
        "        if Total - (rejectedValue + V[i]) > maxValue :\n",
        "            maxValue = getMax(visited|{i}, connected-{i}, rejected | {i}, size, value, rejectedValue + V[i], maxValue)\n",
        "            \n",
        "        return maxValue\n",
        "\n",
        "    #to get best connected nodes\n",
        "    def getBest(connected) :\n",
        "        for i in order :\n",
        "            if i in connected :\n",
        "                return i\n",
        "            \n",
        "    for s in order :\n",
        "        maxValue = getMax(set(),{s},set(),0,0,0,maxValue)\n",
        "\n",
        "    return maxValue"
      ],
      "execution_count": 3,
      "outputs": []
    },
    {
      "cell_type": "code",
      "metadata": {
        "id": "kZi3IS_tO6jH",
        "colab_type": "code",
        "colab": {
          "base_uri": "https://localhost:8080/",
          "height": 134
        },
        "outputId": "2409526f-4680-47fc-e315-124bf4b77a8e"
      },
      "source": [
        "#driver code\n",
        "#take input for number of test cases\n",
        "T = int(input(\"Enter number of test cases: \"))\n",
        "#for each test case take new input using for loop\n",
        "for _ in range(T) :\n",
        "    #take input for number of nodes (n) and number of maximum nodes in knapsack (m)\n",
        "    n,m = (int(_) for _ in input(\"Enter number of nodes and knapsack size: \").split())\n",
        "    #take input of sizes of each node (s1,s2,s3..sn)\n",
        "    s = tuple(int(_) for _ in input(\"Enter size of each node: \").split())\n",
        "    #take input of values associated with each node (v1,v2,v3..vn)\n",
        "    v = tuple(int(_) for _ in input(\"Enter values for each node: \").split())\n",
        "    #take the input of the two nodes that are connected\n",
        "    e = tuple((int(_)-1 for _ in input(\"Which nodes are connected? \").split()) for _ in range(n-1))\n",
        "    print(\"Maximum cost: \",solve(n,m,s,v,e))"
      ],
      "execution_count": 6,
      "outputs": [
        {
          "output_type": "stream",
          "text": [
            "Enter number of test cases: 1\n",
            "Enter number of nodes and knapsack size: 3 1\n",
            "Enter size of each node: 1 1 1\n",
            "Enter values for each node: 1 2 3 \n",
            "Which nodes are connected? 1 2\n",
            "Which nodes are connected? 1 3\n",
            "Maximum cost:  3\n"
          ],
          "name": "stdout"
        }
      ]
    },
    {
      "cell_type": "code",
      "metadata": {
        "colab_type": "code",
        "id": "Kajkl0qQR5tu",
        "colab": {
          "base_uri": "https://localhost:8080/",
          "height": 168
        },
        "outputId": "32b9677d-3462-4365-bee1-4b817a7a61ab"
      },
      "source": [
        "*#driver code\n",
        "#take input for number of test cases\n",
        "T = int(input(\"Enter number of test cases: \"))\n",
        "#for each test case take new input using for loop\n",
        "for _ in range(T) :\n",
        "    #take input for number of nodes (n) and number of maximum nodes in knapsack (m)\n",
        "    n,m = (int(_) for _ in input(\"Enter number of nodes and knapsack size: \").split())\n",
        "    #take input of sizes of each node (s1,s2,s3..sn)\n",
        "    s = tuple(int(_) for _ in input(\"Enter size of each node: \").split())\n",
        "    #take input of values associated with each node (v1,v2,v3..vn)\n",
        "    v = tuple(int(_) for _ in input(\"Enter values for each node: \").split())\n",
        "    #take the input of the two nodes that are connected\n",
        "    e = tuple((int(_)-1 for _ in input(\"Which nodes are connected? \").split()) for _ in range(n-1))\n",
        "    print(\"Maximum cost: \",solve(n,m,s,v,e))"
      ],
      "execution_count": 7,
      "outputs": [
        {
          "output_type": "stream",
          "text": [
            "Enter number of test cases: 1\n",
            "Enter number of nodes and knapsack size: 5 3\n",
            "Enter size of each node: 1 1 1 1 1 \n",
            "Enter values for each node: 3 5 2 2 3\n",
            "Which nodes are connected? 1 2\n",
            "Which nodes are connected? 1 3\n",
            "Which nodes are connected? 2 4\n",
            "Which nodes are connected? 2 5\n",
            "Maximum cost:  11\n"
          ],
          "name": "stdout"
        }
      ]
    },
    {
      "cell_type": "code",
      "metadata": {
        "colab_type": "code",
        "id": "aPbvXkX-SOHl",
        "colab": {
          "base_uri": "https://localhost:8080/",
          "height": 235
        },
        "outputId": "619c4d27-39aa-421b-f09b-1b01c10e86e6"
      },
      "source": [
        "#driver code\n",
        "#take input for number of test cases\n",
        "T = int(input(\"Enter number of test cases: \"))\n",
        "#for each test case take new input using for loop\n",
        "for _ in range(T) :\n",
        "    #take input for number of nodes (n) and number of maximum nodes in knapsack (m)\n",
        "    n,m = (int(_) for _ in input(\"Enter number of nodes and knapsack size: \").split())\n",
        "    #take input of sizes of each node (s1,s2,s3..sn)\n",
        "    s = tuple(int(_) for _ in input(\"Enter size of each node: \").split())\n",
        "    #take input of values associated with each node (v1,v2,v3..vn)\n",
        "    v = tuple(int(_) for _ in input(\"Enter values for each node: \").split())\n",
        "    #take the input of the two nodes that are connected\n",
        "    e = tuple((int(_)-1 for _ in input(\"Which nodes are connected? \").split()) for _ in range(n-1))\n",
        "    print(\"Maximum cost: \",solve(n,m,s,v,e))"
      ],
      "execution_count": 8,
      "outputs": [
        {
          "output_type": "stream",
          "text": [
            "Enter number of test cases: 1\n",
            "Enter number of nodes and knapsack size: 9 7\n",
            "Enter size of each node: 1 1 3 2 1 1 1 5 5 \n",
            "Enter values for each node: 1 0 8 5 1 2 0 9 14\n",
            "Which nodes are connected? 1 2\n",
            "Which nodes are connected? 2 3\n",
            "Which nodes are connected? 2 4\n",
            "Which nodes are connected? 3 5\n",
            "Which nodes are connected? 3 6\n",
            "Which nodes are connected? 4 7\n",
            "Which nodes are connected? 4 8\n",
            "Which nodes are connected? 7 9\n",
            "Maximum cost:  15\n"
          ],
          "name": "stdout"
        }
      ]
    },
    {
      "cell_type": "markdown",
      "metadata": {
        "id": "RZDfXr1yWpnW",
        "colab_type": "text"
      },
      "source": [
        "**Explanation**"
      ]
    },
    {
      "cell_type": "markdown",
      "metadata": {
        "id": "FY2ufdbnTVnX",
        "colab_type": "text"
      },
      "source": [
        "Lets give the input as\n",
        "\n",
        "1\n",
        "\n",
        "3 1\n",
        "\n",
        "1 1 1\n",
        "\n",
        "1 2 3\n",
        "\n",
        "1 2\n",
        "\n",
        "1 3\n",
        "\n",
        "The expected output is\n",
        "\n",
        "3\n",
        "\n",
        "So we are inputing 1 as the number of test cases, so the loop will run 1 time,\n",
        "\n",
        "the next line contains the numbers 3 & 1 where in 3 denotes how many items are there and 1 denoting the size of knapsack, so at the most there can only be one item.\n",
        "\n",
        "1,1,1 denotes the size of the item asscociated at node i & 1,2,3 is the value of each of the following items.\n",
        "\n",
        "We can now seperate these numbers so that they form a tree or so we know there is a difference between them(edge) so we input 1,2 and 1,3 so 1 is branching towards 2 and another brach to 3\n",
        "\n",
        "From the inputs got we can cleary see that 3 is the largest value and as the knapsack size is 1, the output should be 3."
      ]
    },
    {
      "cell_type": "markdown",
      "metadata": {
        "id": "UdgK4kb6UCdX",
        "colab_type": "text"
      },
      "source": [
        "\n",
        "\n",
        "def solve(N,M,S,V,E) : # takes the values of n,m,s,v,e as defined above\n",
        "\n",
        "N = 3\n",
        "\n",
        "M = 1\n",
        "\n",
        "S = (1,1,1)\n",
        "\n",
        "V = (1,2,3)\n",
        "\n",
        "E = ((1,2),(1,3))\n",
        "\n",
        "T = tuple(set() for _ in range(N)) #in range 1 to 3\n",
        "\n",
        "for u,v in E :\n",
        "\n",
        "    T[u].add(v)\n",
        "    T[v].add(u)\n",
        "    #  therefore T = ({1, 2}, {0}, {0})\n",
        "\n",
        "Total, order, maxValue = sum(V), sorted(range(n), reverse=True, key=(lambda i : V[i]/S[i])), 0\n",
        "\n",
        "  #Total is sum of all values in V i.e. 1+2+3 = 6\n",
        "\n",
        "  #order is the sorted range of value of an object / size of that object, therefore the order = [2, 1, 0]\n",
        "\n",
        "  #lets set the maxvalue at 0, so maxValue = 0\n",
        "\n",
        "for s in order : \n",
        "\n",
        "    maxValue = getMax(set(),{s},set(),0,0,0,maxValue) #passing the arguments in getMax\n",
        "\n",
        "return maxValue\n",
        "\n",
        "def getMax(visited, connected, rejected, size, value, rejectedValue, maxValue) :\n",
        "\n",
        "  #visited = empty set\n",
        "\n",
        "  #connected = {s}, s = 2,1,0 from the order \n",
        "\n",
        "  #rejected = empty set\n",
        "\n",
        "  #size = 0\n",
        "\n",
        "  #value = 0\n",
        "\n",
        "  #rejectedValue = 0\n",
        "\n",
        "  #maxValue = 0 \n",
        "\n",
        "    if value > maxValue :\n",
        "        maxValue = value\n",
        "\n",
        "    if not connected :\n",
        "        return maxValue\n",
        "\n",
        "    i = getBest(connected)\n",
        "    # i = 2\n",
        "\n",
        "    if size + S[i] <= M : # 0 + 2 > M doesnt run further\n",
        "        maxValue = getMax(visited|{i}, (connected-{i}) | (T[i]-rejected-visited), rejected, size+S[i], value+V[i], rejectedValue, maxValue)\n",
        "\n",
        "    if Total - (rejectedValue + V[i]) > maxValue : # 6 - (0+3) = 3 is > 0\n",
        "        maxValue = getMax(visited|{i}, connected-{i}, rejected | {i}, size, value, rejectedValue + V[i], maxValue)\n",
        "\n",
        "      #visited = empty set or 2\n",
        "      #connected = 1 \n",
        "      #rejected = empty set or 2\n",
        "      #size = 0\n",
        "      #value = 0\n",
        "      #rejectedValue = 3\n",
        "      #maxValue = 0\n",
        "\n",
        "    return maxValue\n",
        "\n",
        "def getBest(connected) :\n",
        "    for i in order :\n",
        "        if i in connected :\n",
        "            return i\n",
        "\n",
        "T = int(input()) #input 1\n",
        "\n",
        "for _ in range(T) : #range from 1 to 1\n",
        "\n",
        "n,m = (int(_) for _ in input().split()) #n = 3, m = 1, so 3 items, 1 knapsize\n",
        "\n",
        "s = tuple(int(_) for _ in input().split()) #s is  tuple of 1,1,1 indicting the size of each of the 3 objects\n",
        "\n",
        "v = tuple(int(_) for _ in input().split()) # is the tuple of 1,2,3 indicating the values of the 3 objects\n",
        "\n",
        "e = tuple((int(_)-1 for _ in input().split()) for _ in range(n-1)) # takes the edge values (1,2),(1,3) \n",
        "\n",
        "print(solve(n,m,s,v,e))\n",
        "\n",
        "The last loop runs and returns us 3"
      ]
    }
  ]
}