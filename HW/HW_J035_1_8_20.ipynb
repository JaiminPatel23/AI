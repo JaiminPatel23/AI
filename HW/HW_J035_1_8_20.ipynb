{
  "nbformat": 4,
  "nbformat_minor": 0,
  "metadata": {
    "colab": {
      "name": "HW_J035_1-8-20.ipynb",
      "provenance": [],
      "collapsed_sections": [],
      "authorship_tag": "ABX9TyPTm0FKvNWJ0Y58lj7yNjF0",
      "include_colab_link": true
    },
    "kernelspec": {
      "name": "python3",
      "display_name": "Python 3"
    }
  },
  "cells": [
    {
      "cell_type": "markdown",
      "metadata": {
        "id": "view-in-github",
        "colab_type": "text"
      },
      "source": [
        "<a href=\"https://colab.research.google.com/github/JaiminPatel23/AI/blob/master/HW/HW_J035_1_8_20.ipynb\" target=\"_parent\"><img src=\"https://colab.research.google.com/assets/colab-badge.svg\" alt=\"Open In Colab\"/></a>"
      ]
    },
    {
      "cell_type": "markdown",
      "metadata": {
        "id": "TXI-iRKTXn6y",
        "colab_type": "text"
      },
      "source": [
        "#Validating Postal Codes\n",
        "Your task is to provide two regular expressions regex_integer_in_range and regex_alternating_repetitive_digit_pair.\n",
        "\n",
        "Where:\n",
        "\n",
        "regex_integer_in_range should match only integers range from to inclusive\n",
        "\n",
        "regex_alternating_repetitive_digit_pair should find alternating repetitive digits pairs in a given string."
      ]
    },
    {
      "cell_type": "code",
      "metadata": {
        "id": "VoQ_fQ0haI9O",
        "colab_type": "code",
        "colab": {}
      },
      "source": [
        "regex_integer_in_range = r\"^[1-9][0-9]{5}$\"\t# Do not delete 'r'.\n",
        "regex_alternating_repetitive_digit_pair = r\"(\\d)(?=\\d\\1)\"\t# Do not delete 'r'.\n",
        "\n",
        "\n",
        "import re\n",
        "P = input()\n",
        "\n",
        "print (bool(re.match(regex_integer_in_range, P)) \n",
        "and len(re.findall(regex_alternating_repetitive_digit_pair, P)) < 2)"
      ],
      "execution_count": null,
      "outputs": []
    },
    {
      "cell_type": "markdown",
      "metadata": {
        "id": "kf0gd7soaNeg",
        "colab_type": "text"
      },
      "source": [
        "110000\n",
        "\n",
        "False"
      ]
    },
    {
      "cell_type": "markdown",
      "metadata": {
        "id": "CJN2dqUWX4T-",
        "colab_type": "text"
      },
      "source": [
        "#The Coin Change Problem\n",
        "You are working at the cash counter at a fun-fair, and you have different types of coins available to you in infinite quantities. The value of each coin is already given. Can you determine the number of ways of making change for a particular number of units using the given types of coins?\n",
        "\n",
        "For example, if you have 4 types of coins, and the value of each type is given as 8,3,2,1 respectively, you can make change for 3 units in three ways:{1,1,1} ,{1,2} and {3} .\n",
        "\n",
        "**Function Description**\n",
        "\n",
        "Complete the getWays function in the editor below. It must return an integer denoting the number of ways to make change.\n",
        "\n",
        "getWays has the following parameter(s):\n",
        "\n",
        "n: an integer, the amount to make change for\n",
        "c: an array of integers representing available denominations"
      ]
    },
    {
      "cell_type": "code",
      "metadata": {
        "id": "Jbv8IcCBdUpX",
        "colab_type": "code",
        "colab": {}
      },
      "source": [
        "#!/bin/python3\n",
        "\n",
        "import math\n",
        "import os\n",
        "import random\n",
        "import re\n",
        "import sys\n",
        "\n",
        "#\n",
        "# Complete the 'getWays' function below.\n",
        "#\n",
        "# The function is expected to return a LONG_INTEGER.\n",
        "# The function accepts following parameters:\n",
        "#  1. INTEGER n\n",
        "#  2. LONG_INTEGER_ARRAY c\n",
        "#\n",
        "\n",
        "def getWays(n, c):\n",
        "    # Write your code here\n",
        "    b = len(c)                                                 \n",
        "    tab = [0 for k in range(n+1)]                             \n",
        "    tab[0] = 1                                        \n",
        "    for i in range(0,b):                                       \n",
        "        for j in range(c[i],n+1): \n",
        "            tab[j] += tab[j-c[i]] \n",
        "  \n",
        "    return tab[n]  \n",
        "\n",
        "if __name__ == '__main__':\n",
        "    fptr = open(os.environ['OUTPUT_PATH'], 'w')\n",
        "\n",
        "    first_multiple_input = input().rstrip().split()\n",
        "\n",
        "    n = int(first_multiple_input[0])\n",
        "\n",
        "    m = int(first_multiple_input[1])\n",
        "\n",
        "    c = list(map(int, input().rstrip().split()))\n",
        "\n",
        "    # Print the number of ways of making change for 'n' units using coins having the values given by 'c'\n",
        "\n",
        "    ways = getWays(n, c)\n",
        "\n",
        "    fptr.write(str(ways) + '\\n')\n",
        "\n",
        "    fptr.close()"
      ],
      "execution_count": null,
      "outputs": []
    },
    {
      "cell_type": "markdown",
      "metadata": {
        "id": "p-e2ja0teG3n",
        "colab_type": "text"
      },
      "source": [
        "4 3\n",
        "\n",
        "1 2 3\n",
        "\n",
        "4"
      ]
    },
    {
      "cell_type": "markdown",
      "metadata": {
        "id": "8Zrf0anrkq2O",
        "colab_type": "text"
      },
      "source": [
        "#Sherlock and Cost\n",
        "\n",
        "In this challenge, you will be given an array and must determine an array . There is a special rule: For all , . That is, can be any number you choose such that . Your task is to select a series of given such that the sum of the absolute difference of consecutive pairs of is maximized. This will be the array's cost, and will be represented by the variable below."
      ]
    },
    {
      "cell_type": "code",
      "metadata": {
        "id": "40fR82bQnYQY",
        "colab_type": "code",
        "colab": {}
      },
      "source": [
        "#!/bin/python3\n",
        "\n",
        "import math\n",
        "import os\n",
        "import random\n",
        "import re\n",
        "import sys\n",
        "\n",
        "#\n",
        "# Complete the 'getWays' function below.\n",
        "#\n",
        "# The function is expected to return a LONG_INTEGER.\n",
        "# The function accepts following parameters:\n",
        "#  1. INTEGER n\n",
        "#  2. LONG_INTEGER_ARRAY c\n",
        "#\n",
        "\n",
        "def getWays(n, c):\n",
        "    # Write your code here\n",
        "    b = len(c)                                                 \n",
        "    tab = [0 for k in range(n+1)]                             \n",
        "    tab[0] = 1                                        \n",
        "    for i in range(0,b):                                       \n",
        "        for j in range(c[i],n+1): \n",
        "            tab[j] += tab[j-c[i]] \n",
        "  \n",
        "    return tab[n]  \n",
        "\n",
        "if __name__ == '__main__':\n",
        "    fptr = open(os.environ['OUTPUT_PATH'], 'w')\n",
        "\n",
        "    first_multiple_input = input().rstrip().split()\n",
        "\n",
        "    n = int(first_multiple_input[0])\n",
        "\n",
        "    m = int(first_multiple_input[1])\n",
        "\n",
        "    c = list(map(int, input().rstrip().split()))\n",
        "\n",
        "    # Print the number of ways of making change for 'n' units using coins having the values given by 'c'\n",
        "\n",
        "    ways = getWays(n, c)\n",
        "\n",
        "    fptr.write(str(ways) + '\\n')\n",
        "\n",
        "    fptr.close()"
      ],
      "execution_count": null,
      "outputs": []
    },
    {
      "cell_type": "markdown",
      "metadata": {
        "id": "4hGae42nlJg_",
        "colab_type": "text"
      },
      "source": [
        "2\n",
        "\n",
        "5\n",
        "\n",
        "3 15 4 12 10\n",
        "\n",
        "50\n",
        "\n",
        "\n",
        "3\n",
        "\n",
        "4 7 9\n",
        "\n",
        "12"
      ]
    }
  ]
}