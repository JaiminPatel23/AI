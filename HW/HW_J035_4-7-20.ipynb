{
  "nbformat": 4,
  "nbformat_minor": 0,
  "metadata": {
    "colab": {
      "name": "HW_J035_4-7-20.ipynb",
      "provenance": [],
      "authorship_tag": "ABX9TyMkvB1yr69puewOJ2NiPm1Q",
      "include_colab_link": true
    },
    "kernelspec": {
      "name": "python3",
      "display_name": "Python 3"
    }
  },
  "cells": [
    {
      "cell_type": "markdown",
      "metadata": {
        "id": "view-in-github",
        "colab_type": "text"
      },
      "source": [
        "<a href=\"https://colab.research.google.com/github/JaiminPatel23/AI/blob/master/HW/HW_J035_4-7-20.ipynb\" target=\"_parent\"><img src=\"https://colab.research.google.com/assets/colab-badge.svg\" alt=\"Open In Colab\"/></a>"
      ]
    },
    {
      "cell_type": "code",
      "metadata": {
        "id": "dJSOLyldwKsY",
        "colab_type": "code",
        "colab": {}
      },
      "source": [
        "if __name__ == '__main__':\n",
        "    a = int(input())\n",
        "    b = int(input()) \n",
        "\n",
        "mdiv = a//b\n",
        "print(mdiv)\n",
        "ndiv = a/b\n",
        "print(ndiv)"
      ],
      "execution_count": null,
      "outputs": []
    },
    {
      "cell_type": "code",
      "metadata": {
        "id": "cDgIrURQ_RTu",
        "colab_type": "code",
        "colab": {}
      },
      "source": [
        "if __name__ == '__main__':\n",
        "    n = int(input())\n",
        "\n",
        "    for i in range(1,n+1):\n",
        "        print(i,end = '')"
      ],
      "execution_count": null,
      "outputs": []
    },
    {
      "cell_type": "code",
      "metadata": {
        "id": "tZRhVPtJ_c73",
        "colab_type": "code",
        "colab": {}
      },
      "source": [
        "if __name__ == '__main__':\n",
        "    a = int(input())\n",
        "    b = int(input())\n",
        "    \n",
        "    if 1<=a<=pow(10,10) and 1<=b<=pow(10,10):\n",
        "        print(a+b)\n",
        "        print(a-b)\n",
        "        print(a*b)"
      ],
      "execution_count": null,
      "outputs": []
    },
    {
      "cell_type": "code",
      "metadata": {
        "id": "yunl9vOf9I4P",
        "colab_type": "code",
        "colab": {}
      },
      "source": [
        "#!/bin/python3\n",
        "\n",
        "import math\n",
        "import os\n",
        "import random\n",
        "import re\n",
        "import sys\n",
        "\n",
        "\n",
        "\n",
        "if __name__ == '__main__':\n",
        "    n = int(input().strip())\n",
        "\n",
        "    if 1<=n<=100:\n",
        "        if n%2!=0 :\n",
        "            print(\"Weird\")\n",
        "        elif n%2==0 and 2<=n<=5:\n",
        "            print(\"Not Weird\")\n",
        "        elif n%2==0 and 6<=n<=20:\n",
        "            print(\"Weird\")\n",
        "        elif n%2==0 and n>20:\n",
        "            print(\"Not Weird\")   \n",
        "    else:\n",
        "        pass"
      ],
      "execution_count": null,
      "outputs": []
    },
    {
      "cell_type": "code",
      "metadata": {
        "id": "WFF6PDKR_5fW",
        "colab_type": "code",
        "colab": {}
      },
      "source": [
        "if __name__ == '__main__':\n",
        "    n = int(input())\n",
        "\n",
        "for a in range(n):\n",
        "    print(a**2)"
      ],
      "execution_count": null,
      "outputs": []
    },
    {
      "cell_type": "code",
      "metadata": {
        "id": "-NU0NO0T_9oC",
        "colab_type": "code",
        "colab": {}
      },
      "source": [
        "if __name__ == '__main__':\n",
        "    x = int(input())\n",
        "    y = int(input())\n",
        "    z = int(input())\n",
        "    n = int(input())\n",
        "\n",
        "    list = [[i,j,k]for i in range(0,x+1) for j in range (0,y+1)for k in range (0,z+1)if i+j+k!=n]\n",
        "    print(list)"
      ],
      "execution_count": null,
      "outputs": []
    }
  ]
}