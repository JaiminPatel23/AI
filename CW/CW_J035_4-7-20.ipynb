{
  "nbformat": 4,
  "nbformat_minor": 0,
  "metadata": {
    "colab": {
      "name": "CW_J035_4-7-20.ipynb",
      "provenance": [],
      "authorship_tag": "ABX9TyMpwM7+FbsKGdSvn7BnxQ67",
      "include_colab_link": true
    },
    "kernelspec": {
      "name": "python3",
      "display_name": "Python 3"
    }
  },
  "cells": [
    {
      "cell_type": "markdown",
      "metadata": {
        "id": "view-in-github",
        "colab_type": "text"
      },
      "source": [
        "<a href=\"https://colab.research.google.com/github/JaiminPatel23/AI/blob/master/CW/CW_J035_4-7-20.ipynb\" target=\"_parent\"><img src=\"https://colab.research.google.com/assets/colab-badge.svg\" alt=\"Open In Colab\"/></a>"
      ]
    },
    {
      "cell_type": "code",
      "metadata": {
        "id": "S_qHZxY2K92o",
        "colab_type": "code",
        "colab": {}
      },
      "source": [
        "#list\n",
        "a = [1, 2, 3, 4, 5, 'human']\n",
        "b = [[1, 2, 3, 4, 5, 'human'], [2, 3, 4, 5, 'human'], [3, 4, 5, 'human']]\n",
        "\n",
        "\n",
        "#tuple\n",
        "a = (1, 2, 3, 4, 5, 'human')\n",
        "\n",
        "#set\n",
        "a= {1, 2, 3, 4, 5, 'human'}\n",
        "\n",
        "#dictionary\n",
        "a = {'list': [1, 2, 3, 4, 5, 'human'],\n",
        "     'tuple': (1, 2, 3, 4, 5, 'human'),\n",
        "     'set': {1, 2, 3, 4, 5, 'human'}}"
      ],
      "execution_count": 3,
      "outputs": []
    },
    {
      "cell_type": "code",
      "metadata": {
        "id": "pllyEcoBGMOZ",
        "colab_type": "code",
        "colab": {
          "base_uri": "https://localhost:8080/",
          "height": 34
        },
        "outputId": "4662bd22-d688-43a7-f938-13040801a0ff"
      },
      "source": [
        "j = {1,2,3,4,6}\n",
        "j.add(5)\n",
        "j"
      ],
      "execution_count": 2,
      "outputs": [
        {
          "output_type": "execute_result",
          "data": {
            "text/plain": [
              "{1, 2, 3, 4, 5, 6}"
            ]
          },
          "metadata": {
            "tags": []
          },
          "execution_count": 2
        }
      ]
    },
    {
      "cell_type": "code",
      "metadata": {
        "id": "GVTfTmTOGgDf",
        "colab_type": "code",
        "colab": {
          "base_uri": "https://localhost:8080/",
          "height": 34
        },
        "outputId": "c40aadf2-e1f6-415a-f5ac-17756c30b982"
      },
      "source": [
        "list = [1,2,3]\n",
        "list.append(4)\n",
        "print(list)"
      ],
      "execution_count": 4,
      "outputs": [
        {
          "output_type": "stream",
          "text": [
            "[1, 2, 3, 4]\n"
          ],
          "name": "stdout"
        }
      ]
    }
  ]
}