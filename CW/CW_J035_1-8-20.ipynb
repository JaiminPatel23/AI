{
  "nbformat": 4,
  "nbformat_minor": 0,
  "metadata": {
    "colab": {
      "name": "CW_J035_1-8-20.ipynb",
      "provenance": [],
      "collapsed_sections": [],
      "authorship_tag": "ABX9TyMTTQ6UX7v2RSTvpx/paT9n",
      "include_colab_link": true
    },
    "kernelspec": {
      "name": "python3",
      "display_name": "Python 3"
    }
  },
  "cells": [
    {
      "cell_type": "markdown",
      "metadata": {
        "id": "view-in-github",
        "colab_type": "text"
      },
      "source": [
        "<a href=\"https://colab.research.google.com/github/JaiminPatel23/AI/blob/master/CW/CW_J035_1-8-20.ipynb\" target=\"_parent\"><img src=\"https://colab.research.google.com/assets/colab-badge.svg\" alt=\"Open In Colab\"/></a>"
      ]
    },
    {
      "cell_type": "code",
      "metadata": {
        "id": "aduA2Vpj8gN2",
        "colab_type": "code",
        "colab": {
          "base_uri": "https://localhost:8080/",
          "height": 34
        },
        "outputId": "c3f35be6-ba72-4eed-92f9-828b1ed96d4a"
      },
      "source": [
        "#Recursion - When function calls itself during execution\n",
        "1+2+3+4 # calculate\n",
        "1+2 # Sum(1,2)\n",
        "3+3 # Sum(Sum(1,2),3)\n",
        "6+4 # Sum(Sum(Sum(1,2),3),4)"
      ],
      "execution_count": 4,
      "outputs": [
        {
          "output_type": "execute_result",
          "data": {
            "text/plain": [
              "10"
            ]
          },
          "metadata": {
            "tags": []
          },
          "execution_count": 4
        }
      ]
    },
    {
      "cell_type": "markdown",
      "metadata": {
        "id": "satJlIf2F_nS",
        "colab_type": "text"
      },
      "source": [
        "#Memoisation ~ Memorandum(Latin) (To be remembered)\n",
        "Storing intermediate values, through various ways"
      ]
    },
    {
      "cell_type": "code",
      "metadata": {
        "id": "I43mii46FZ2W",
        "colab_type": "code",
        "colab": {}
      },
      "source": [
        "# Calculating 7!\n",
        "def factorial_recursion(n):\n",
        "  factor=1\n",
        "  if(n==0):\n",
        "    return factor\n",
        "  else:\n",
        "    return n*factorial_recursion(n-1)\n",
        "\n",
        "def factorial_simpl(n):\n",
        "  factor=1\n",
        "  for i in range (1,n+1):\n",
        "    factor=factor*i\n",
        "  return factor\n"
      ],
      "execution_count": 9,
      "outputs": []
    },
    {
      "cell_type": "code",
      "metadata": {
        "id": "cBs8PFFiHLnX",
        "colab_type": "code",
        "colab": {
          "base_uri": "https://localhost:8080/",
          "height": 34
        },
        "outputId": "ab8bb823-3442-437a-d29f-8dec44c1b206"
      },
      "source": [
        "factorial(7)"
      ],
      "execution_count": 10,
      "outputs": [
        {
          "output_type": "execute_result",
          "data": {
            "text/plain": [
              "5040"
            ]
          },
          "metadata": {
            "tags": []
          },
          "execution_count": 10
        }
      ]
    },
    {
      "cell_type": "code",
      "metadata": {
        "id": "RtzxkrXXHOcn",
        "colab_type": "code",
        "colab": {
          "base_uri": "https://localhost:8080/",
          "height": 34
        },
        "outputId": "3ce5deab-4fea-436f-cbcb-10b3ac47013a"
      },
      "source": [
        "factorial(12)"
      ],
      "execution_count": 11,
      "outputs": [
        {
          "output_type": "execute_result",
          "data": {
            "text/plain": [
              "479001600"
            ]
          },
          "metadata": {
            "tags": []
          },
          "execution_count": 11
        }
      ]
    },
    {
      "cell_type": "markdown",
      "metadata": {
        "id": "IFappJA2IFNT",
        "colab_type": "text"
      },
      "source": [
        "#Function edited but still running(factorial to factorial_recursion)\n",
        "so deleting the function from the environment"
      ]
    },
    {
      "cell_type": "code",
      "metadata": {
        "id": "65PbfG8aHRS6",
        "colab_type": "code",
        "colab": {}
      },
      "source": [
        "del(factorial)"
      ],
      "execution_count": 12,
      "outputs": []
    },
    {
      "cell_type": "code",
      "metadata": {
        "id": "17Wq-xYyIjJF",
        "colab_type": "code",
        "colab": {
          "base_uri": "https://localhost:8080/",
          "height": 162
        },
        "outputId": "4a875009-d1f9-491c-d8a6-f57beac7f9ea"
      },
      "source": [
        "factorial(5)"
      ],
      "execution_count": 13,
      "outputs": [
        {
          "output_type": "error",
          "ename": "NameError",
          "evalue": "ignored",
          "traceback": [
            "\u001b[0;31m---------------------------------------------------------------------------\u001b[0m",
            "\u001b[0;31mNameError\u001b[0m                                 Traceback (most recent call last)",
            "\u001b[0;32m<ipython-input-13-637175d621a4>\u001b[0m in \u001b[0;36m<module>\u001b[0;34m()\u001b[0m\n\u001b[0;32m----> 1\u001b[0;31m \u001b[0mfactorial\u001b[0m\u001b[0;34m(\u001b[0m\u001b[0;36m5\u001b[0m\u001b[0;34m)\u001b[0m\u001b[0;34m\u001b[0m\u001b[0;34m\u001b[0m\u001b[0m\n\u001b[0m",
            "\u001b[0;31mNameError\u001b[0m: name 'factorial' is not defined"
          ]
        }
      ]
    },
    {
      "cell_type": "code",
      "metadata": {
        "id": "3Tt6OsQsImCq",
        "colab_type": "code",
        "colab": {
          "base_uri": "https://localhost:8080/",
          "height": 34
        },
        "outputId": "7998d727-4389-444f-c649-07226b9746b0"
      },
      "source": [
        "factorial_recursion(5)"
      ],
      "execution_count": 14,
      "outputs": [
        {
          "output_type": "execute_result",
          "data": {
            "text/plain": [
              "120"
            ]
          },
          "metadata": {
            "tags": []
          },
          "execution_count": 14
        }
      ]
    },
    {
      "cell_type": "code",
      "metadata": {
        "id": "UXVpQyCVIpiq",
        "colab_type": "code",
        "colab": {
          "base_uri": "https://localhost:8080/",
          "height": 34
        },
        "outputId": "6724ad49-c359-4831-dda5-9e0f3da8ae3a"
      },
      "source": [
        "factorial_simpl(5)"
      ],
      "execution_count": 16,
      "outputs": [
        {
          "output_type": "execute_result",
          "data": {
            "text/plain": [
              "120"
            ]
          },
          "metadata": {
            "tags": []
          },
          "execution_count": 16
        }
      ]
    },
    {
      "cell_type": "markdown",
      "metadata": {
        "id": "Y-W_Y4cnIwTB",
        "colab_type": "text"
      },
      "source": [
        "#Fibonacci\n",
        "0 1 1 2 3 5 8 13 \n",
        "#Base Case - sum(0,1)\n",
        "nth number is sum of previous two numbers\n",
        "num(n) = sum(num(n-1),num(n-2))"
      ]
    },
    {
      "cell_type": "code",
      "metadata": {
        "id": "-b5BUMb4Isfq",
        "colab_type": "code",
        "colab": {}
      },
      "source": [
        "#to be checked#\n",
        "#Function to calculate nth Fibonacci number\n",
        "def fibo_simpl(n):\n",
        "  fibo=[]\n",
        "  #count=0\n",
        "  fibo[0],fibo[1]=0,1\n",
        "  for i in range (2,n+1):\n",
        "    fibo[i]=fibo[i-1]+fibo[i-2]\n",
        "  return fibo[n]\n",
        "\n",
        "  if n==0:\n",
        "    print(fibo[0])\n",
        "  elif n==1:\n",
        "    print(fibo[1])\n",
        "  else:\n",
        "    while count <n:\n",
        "      print(fibo[0])\n",
        "      n1=fibo[0]+fibo[1]\n",
        "      fibo[0]+fibo[1]\n",
        "      fibo[1]=n1\n",
        "      count=count=count+1\n",
        "    for num in range (2,n):\n",
        "      return fibo(n-1)+fibo(n-2)\n"
      ],
      "execution_count": null,
      "outputs": []
    },
    {
      "cell_type": "code",
      "metadata": {
        "id": "UZMJi8prUxb1",
        "colab_type": "code",
        "colab": {}
      },
      "source": [
        "def fibo_1(n):\n",
        "  # n: whole number\n",
        "  # returns the n+1th number\n",
        "  if n==0 or n==1:\n",
        "    return n\n",
        "  else:\n",
        "    return fibo_1(n-1)+fibo_1(n-2)"
      ],
      "execution_count": 17,
      "outputs": []
    },
    {
      "cell_type": "code",
      "metadata": {
        "id": "7zxSED-yVLks",
        "colab_type": "code",
        "colab": {
          "base_uri": "https://localhost:8080/",
          "height": 34
        },
        "outputId": "95ec0020-a9e4-4047-f674-18dcd8757d2c"
      },
      "source": [
        "fibo_1(7)"
      ],
      "execution_count": 18,
      "outputs": [
        {
          "output_type": "execute_result",
          "data": {
            "text/plain": [
              "13"
            ]
          },
          "metadata": {
            "tags": []
          },
          "execution_count": 18
        }
      ]
    },
    {
      "cell_type": "code",
      "metadata": {
        "id": "TpMlzCx5VOHS",
        "colab_type": "code",
        "colab": {
          "base_uri": "https://localhost:8080/",
          "height": 35
        },
        "outputId": "4301c5b2-999e-49ba-dee7-7d5cebec4383"
      },
      "source": [
        "#Binary Search\n",
        "list = [5,3,2,1,5,6,7,123,97,65,34,22,344,2245,122,45]\n",
        "\"\"\"\n",
        "Searching an element in a list\n",
        "\"\"\""
      ],
      "execution_count": 26,
      "outputs": [
        {
          "output_type": "execute_result",
          "data": {
            "application/vnd.google.colaboratory.intrinsic+json": {
              "type": "string"
            },
            "text/plain": [
              "'\\nSearching an element in a list\\n'"
            ]
          },
          "metadata": {
            "tags": []
          },
          "execution_count": 26
        }
      ]
    },
    {
      "cell_type": "markdown",
      "metadata": {
        "id": "jQ-eRuXnXphE",
        "colab_type": "text"
      },
      "source": [
        "Tractable - PTIME(Polynomial Time Solvable) Solution is in Polynomial Time\n",
        "\n",
        "Polynomial - expression where each term is n^k, where k can be any whole number\n",
        "\n",
        "Degree of the polynomial - highest power of the variable within the expression\n",
        "\n",
        "Polynomial Time - Runtime of the code or solution be a polynomial of degree k where k is a constant, and since it is time n cannot be negative\n",
        "\n",
        "n: input space or dimension\n",
        "\n",
        "eg O(n^4) - 3*n^4+2*n^2+1\n",
        "n=1 => 1\n",
        "n=2 => 2^4\n",
        "n=3 => 3^4\n",
        "n=4 => 4^4 . . .\n",
        "\n",
        "O(n!)\n",
        "n*n-1*n-2*n -> Polynomial of Degree n-1 - Non Polynomial Time(NP)"
      ]
    },
    {
      "cell_type": "code",
      "metadata": {
        "id": "wRHdATzCWhPF",
        "colab_type": "code",
        "colab": {}
      },
      "source": [
        "list1=list.copy().sort()"
      ],
      "execution_count": 30,
      "outputs": []
    },
    {
      "cell_type": "code",
      "metadata": {
        "id": "n2lD9vwGWz29",
        "colab_type": "code",
        "colab": {
          "base_uri": "https://localhost:8080/",
          "height": 34
        },
        "outputId": "7be3e57d-4c5b-4906-df2c-c1460803af3a"
      },
      "source": [
        "list"
      ],
      "execution_count": 29,
      "outputs": [
        {
          "output_type": "execute_result",
          "data": {
            "text/plain": [
              "[5, 3, 2, 1, 5, 6, 7, 123, 97, 65, 34, 22, 344, 2245, 122, 45]"
            ]
          },
          "metadata": {
            "tags": []
          },
          "execution_count": 29
        }
      ]
    }
  ]
}